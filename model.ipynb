{
 "cells": [
  {
   "cell_type": "code",
   "execution_count": null,
   "metadata": {},
   "outputs": [],
   "source": [
    "import csv\n",
    "import cv2\n",
    "import numpy as np\n",
    "import matplotlib.pyplot as plt\n",
    "import keras\n",
    "import sklearn\n",
    "\n",
    "from sklearn.model_selection import train_test_split\n",
    "\n",
    "from keras.models import Sequential\n",
    "from keras.layers import Flatten, Dense, Lambda, Dropout\n",
    "from keras.layers import Convolution2D\n",
    "from keras.layers import MaxPooling2D\n",
    "from keras.layers import Cropping2D\n",
    "from keras.models import load_model\n",
    "\n",
    "\n",
    "# Check tensorflow is the backend\n",
    "print(keras.backend.backend())\n",
    "keras.backend.image_dim_ordering()"
   ]
  },
  {
   "cell_type": "code",
   "execution_count": null,
   "metadata": {},
   "outputs": [],
   "source": [
    "# Training Data\n",
    "\n",
    "samples = []\n",
    "with open('data/driving_log.csv') as csvfile:\n",
    "    reader = csv.reader(csvfile)\n",
    "    for line in reader:\n",
    "        samples.append(line)\n",
    "\n",
    "train_samples, validation_samples = train_test_split(samples, test_size=0.2)"
   ]
  },
  {
   "cell_type": "code",
   "execution_count": null,
   "metadata": {},
   "outputs": [],
   "source": [
    "# Training Data Generator\n",
    "\n",
    "def generator(samples, batch_size=32, directory=\"data\"):\n",
    "    \"\"\"\n",
    "    Based on generator from Udacity class: Generators\n",
    "    \n",
    "    samples: full set of training data\n",
    "    batch_size: size of training batch\n",
    "    directory: directory location training data is saved\n",
    "    \n",
    "    \"\"\"\n",
    "    \n",
    "    num_samples = len(samples)\n",
    "    \n",
    "    while 1: # Loop forever so the generator never terminates\n",
    "        sklearn.utils.shuffle(samples)\n",
    "        \n",
    "        for offset in range(0, num_samples, batch_size):\n",
    "            batch_samples = samples[offset:offset+batch_size]\n",
    "\n",
    "            images = []\n",
    "            measurements = []\n",
    "            \n",
    "            for batch_sample in batch_samples:\n",
    "                \n",
    "                filename = directory+'/IMG/' + batch_sample[0].split('/')[-1]\n",
    "                \n",
    "                image = cv2.imread(filename)\n",
    "                images.append(image)\n",
    "                \n",
    "                measurement = float(batch_sample[3])\n",
    "                measurements.append(measurement)\n",
    "                \n",
    "                # Image Augmentation (Flip)\n",
    "                images.append(cv2.flip(image, 1))\n",
    "                measurements.append(measurement * -1.0)\n",
    "                 \n",
    "\n",
    "            X_train = np.array(images)\n",
    "            y_train = np.array(measurements)\n",
    "            \n",
    "            yield (X_train, y_train)\n"
   ]
  },
  {
   "cell_type": "code",
   "execution_count": null,
   "metadata": {},
   "outputs": [],
   "source": [
    "# Generate Base Training and Validation Data\n",
    "\n",
    "train_generator = generator(train_samples, batch_size=32, directory=\"data\")\n",
    "validation_generator = generator(validation_samples, batch_size=32, directory=\"data\")\n"
   ]
  },
  {
   "cell_type": "code",
   "execution_count": null,
   "metadata": {},
   "outputs": [],
   "source": [
    "# Model (NVIDIA) Architecture\n",
    "\n",
    "model = Sequential()\n",
    "\n",
    "# Normalisation Layer\n",
    "model.add(Lambda(lambda x: x / 255.0 - 0.5, input_shape=(160, 320, 3)))\n",
    "\n",
    "# Cropping Layer\n",
    "model.add(Cropping2D(cropping=((70, 25), (0,0))))\n",
    "\n",
    "# Convolution Layers\n",
    "model.add(Convolution2D(24,5,5, subsample=(2,2), activation=\"relu\"))\n",
    "model.add(Dropout(0.5))\n",
    "model.add(Convolution2D(36,5,5, subsample=(2,2), activation=\"relu\"))\n",
    "model.add(Dropout(0.5))\n",
    "model.add(Convolution2D(48,5,5, subsample=(2,2), activation=\"relu\"))\n",
    "model.add(Convolution2D(64,3,3, activation=\"relu\"))\n",
    "model.add(Convolution2D(64,3,3, activation=\"relu\"))\n",
    "\n",
    "# Fully Connected Layers\n",
    "model.add(Flatten())\n",
    "model.add(Dense(100))\n",
    "model.add(Dense(50))\n",
    "model.add(Dense(10))\n",
    "\n",
    "# Output Layer\n",
    "model.add(Dense(1))\n",
    "\n"
   ]
  },
  {
   "cell_type": "code",
   "execution_count": null,
   "metadata": {},
   "outputs": [],
   "source": [
    "# Model Training\n",
    "\n",
    "model.compile(loss=\"mse\", optimizer=\"adam\")\n",
    "\n",
    "history = model.fit_generator(train_generator, samples_per_epoch=2*len(train_samples),\n",
    "                             validation_data=validation_generator, nb_val_samples=2*len(validation_samples), \n",
    "                              nb_epoch=5)\n",
    "\n",
    "model.save(\"model.h5\")"
   ]
  },
  {
   "cell_type": "code",
   "execution_count": null,
   "metadata": {},
   "outputs": [],
   "source": [
    "# Plot the training and validation loss for each epoch\n",
    "\n",
    "plt.plot(history.history[\"loss\"])\n",
    "plt.plot(history.history[\"val_loss\"])\n",
    "plt.title(\"model mean squared error loss\")\n",
    "plt.ylabel(\"mean squared error loss\")\n",
    "plt.xlabel(\"epoch\")\n",
    "plt.legend([\"training set\", \"validation set\"], loc=\"upper right\")\n",
    "plt.show()\n",
    "\n"
   ]
  },
  {
   "cell_type": "code",
   "execution_count": null,
   "metadata": {},
   "outputs": [],
   "source": []
  },
  {
   "cell_type": "code",
   "execution_count": null,
   "metadata": {},
   "outputs": [],
   "source": [
    "# Retraining the Model\n",
    "\n",
    "samples = []\n",
    "\n",
    "with open('extra_data/driving_log.csv') as csvfile:\n",
    "    reader = csv.reader(csvfile)\n",
    "    for line in reader:\n",
    "        samples.append(line)\n",
    "                \n",
    "train_samples, validation_samples = train_test_split(samples, test_size=0.2)"
   ]
  },
  {
   "cell_type": "code",
   "execution_count": null,
   "metadata": {},
   "outputs": [],
   "source": [
    "# Generate Extra Training and Validation Data\n",
    "\n",
    "train_generator = generator(train_samples, batch_size=32, directory=\"extra_data\")\n",
    "validation_generator = generator(validation_samples, batch_size=32, directory=\"extra_data\")\n"
   ]
  },
  {
   "cell_type": "code",
   "execution_count": null,
   "metadata": {},
   "outputs": [],
   "source": [
    "# Remove existing model, and load previous model\n",
    "\n",
    "del model\n",
    "model = load_model(\"model.h5\")"
   ]
  },
  {
   "cell_type": "code",
   "execution_count": null,
   "metadata": {},
   "outputs": [],
   "source": [
    "# Model Re-Training\n",
    "\n",
    "model.compile(loss=\"mse\", optimizer=\"adam\")\n",
    "history = model.fit_generator(train_generator, samples_per_epoch=2*len(train_samples),\n",
    "                             validation_data=validation_generator, nb_val_samples=2*len(validation_samples), \n",
    "                              nb_epoch=2)\n",
    "\n",
    "model.save(\"new_model.h5\")"
   ]
  },
  {
   "cell_type": "code",
   "execution_count": null,
   "metadata": {},
   "outputs": [],
   "source": [
    "# Plot the training and validation loss for each epoch\n",
    "\n",
    "plt.plot(history.history[\"loss\"])\n",
    "plt.plot(history.history[\"val_loss\"])\n",
    "plt.title(\"model mean squared error loss\")\n",
    "plt.ylabel(\"mean squared error loss\")\n",
    "plt.xlabel(\"epoch\")\n",
    "plt.legend([\"training set\", \"validation set\"], loc=\"upper right\")\n",
    "plt.show()"
   ]
  }
 ],
 "metadata": {
  "kernelspec": {
   "display_name": "Python 3",
   "language": "python",
   "name": "python3"
  },
  "language_info": {
   "codemirror_mode": {
    "name": "ipython",
    "version": 3
   },
   "file_extension": ".py",
   "mimetype": "text/x-python",
   "name": "python",
   "nbconvert_exporter": "python",
   "pygments_lexer": "ipython3",
   "version": "3.5.2"
  },
  "widgets": {
   "state": {},
   "version": "1.1.2"
  }
 },
 "nbformat": 4,
 "nbformat_minor": 2
}
